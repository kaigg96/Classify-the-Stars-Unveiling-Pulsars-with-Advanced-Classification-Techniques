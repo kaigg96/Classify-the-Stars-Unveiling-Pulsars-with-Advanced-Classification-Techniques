{
 "cells": [
  {
   "cell_type": "markdown",
   "id": "56b3f859-a62d-41ac-b2e7-554003c9546e",
   "metadata": {},
   "source": [
    "# Investigating The Efficacy of Data Profiles in the Prediction of Pulsar Star Class."
   ]
  },
  {
   "cell_type": "markdown",
   "id": "703d4ac3-cdd3-408c-a570-384b5c3e6ea5",
   "metadata": {},
   "source": [
    "## Introduction\n",
    "\n",
    "A pulsar star is a neutron star with a high mass that emits electromagnetic radiation when it collapses. This emission of radiation can be detected as radio waves by telescopes thus giving them a unique integrated pulse profile and DM-SNR curve. These profiles can be used to classify a signal as either pulsar or non-pulsar.\n",
    "\n",
    "### Main Question\n",
    "\n",
    "Does the integrated pulse profile or the DM-SNR curve better predict whether an emission signal is from a pulsar star? \n",
    "\n",
    "### The Dataset\n",
    "\n",
    "This dataset (https://archive.ics.uci.edu/ml/datasets/HTRU2) represents a collection of observed radio emissions that have been confirmed to be either from pulsar stars (Class 1), or a mix of radio frequency interference (RFI) and noise (Class 0).  \n",
    "Each observation contains a mean, standard deviation, kurtosis, and skewness of emissions averaged over multiple rotations of the potential pulsar star. This makes up the integrated profile (IP).  \n",
    "Each observation also contains a transformed mean, standard deviation, kurtosis, and skewness of the emissions based on the dispersion measure (DM) to maximize the signal-to-noise ratio. These make up the DM-SNR variables.\n"
   ]
  },
  {
   "cell_type": "code",
   "execution_count": 1,
   "id": "b4a0d65d-13be-4518-955b-a21a848f5f7a",
   "metadata": {},
   "outputs": [
    {
     "name": "stderr",
     "output_type": "stream",
     "text": [
      "── \u001b[1mAttaching packages\u001b[22m ─────────────────────────────────────── tidyverse 1.3.1 ──\n",
      "\n",
      "\u001b[32m✔\u001b[39m \u001b[34mggplot2\u001b[39m 3.3.6     \u001b[32m✔\u001b[39m \u001b[34mpurrr  \u001b[39m 0.3.4\n",
      "\u001b[32m✔\u001b[39m \u001b[34mtibble \u001b[39m 3.1.7     \u001b[32m✔\u001b[39m \u001b[34mdplyr  \u001b[39m 1.0.9\n",
      "\u001b[32m✔\u001b[39m \u001b[34mtidyr  \u001b[39m 1.2.0     \u001b[32m✔\u001b[39m \u001b[34mstringr\u001b[39m 1.4.0\n",
      "\u001b[32m✔\u001b[39m \u001b[34mreadr  \u001b[39m 2.1.2     \u001b[32m✔\u001b[39m \u001b[34mforcats\u001b[39m 0.5.1\n",
      "\n",
      "── \u001b[1mConflicts\u001b[22m ────────────────────────────────────────── tidyverse_conflicts() ──\n",
      "\u001b[31m✖\u001b[39m \u001b[34mdplyr\u001b[39m::\u001b[32mfilter()\u001b[39m masks \u001b[34mstats\u001b[39m::filter()\n",
      "\u001b[31m✖\u001b[39m \u001b[34mdplyr\u001b[39m::\u001b[32mlag()\u001b[39m    masks \u001b[34mstats\u001b[39m::lag()\n",
      "\n",
      "── \u001b[1mAttaching packages\u001b[22m ────────────────────────────────────── tidymodels 1.0.0 ──\n",
      "\n",
      "\u001b[32m✔\u001b[39m \u001b[34mbroom       \u001b[39m 1.0.0     \u001b[32m✔\u001b[39m \u001b[34mrsample     \u001b[39m 1.0.0\n",
      "\u001b[32m✔\u001b[39m \u001b[34mdials       \u001b[39m 1.0.0     \u001b[32m✔\u001b[39m \u001b[34mtune        \u001b[39m 1.0.0\n",
      "\u001b[32m✔\u001b[39m \u001b[34minfer       \u001b[39m 1.0.2     \u001b[32m✔\u001b[39m \u001b[34mworkflows   \u001b[39m 1.0.0\n",
      "\u001b[32m✔\u001b[39m \u001b[34mmodeldata   \u001b[39m 1.0.0     \u001b[32m✔\u001b[39m \u001b[34mworkflowsets\u001b[39m 1.0.0\n",
      "\u001b[32m✔\u001b[39m \u001b[34mparsnip     \u001b[39m 1.0.0     \u001b[32m✔\u001b[39m \u001b[34myardstick   \u001b[39m 1.0.0\n",
      "\u001b[32m✔\u001b[39m \u001b[34mrecipes     \u001b[39m 1.0.1     \n",
      "\n",
      "── \u001b[1mConflicts\u001b[22m ───────────────────────────────────────── tidymodels_conflicts() ──\n",
      "\u001b[31m✖\u001b[39m \u001b[34mscales\u001b[39m::\u001b[32mdiscard()\u001b[39m masks \u001b[34mpurrr\u001b[39m::discard()\n",
      "\u001b[31m✖\u001b[39m \u001b[34mdplyr\u001b[39m::\u001b[32mfilter()\u001b[39m   masks \u001b[34mstats\u001b[39m::filter()\n",
      "\u001b[31m✖\u001b[39m \u001b[34mrecipes\u001b[39m::\u001b[32mfixed()\u001b[39m  masks \u001b[34mstringr\u001b[39m::fixed()\n",
      "\u001b[31m✖\u001b[39m \u001b[34mdplyr\u001b[39m::\u001b[32mlag()\u001b[39m      masks \u001b[34mstats\u001b[39m::lag()\n",
      "\u001b[31m✖\u001b[39m \u001b[34myardstick\u001b[39m::\u001b[32mspec()\u001b[39m masks \u001b[34mreadr\u001b[39m::spec()\n",
      "\u001b[31m✖\u001b[39m \u001b[34mrecipes\u001b[39m::\u001b[32mstep()\u001b[39m   masks \u001b[34mstats\u001b[39m::step()\n",
      "\u001b[34m•\u001b[39m Learn how to get started at \u001b[32mhttps://www.tidymodels.org/start/\u001b[39m\n",
      "\n",
      "Updating HTML index of packages in '.Library'\n",
      "\n",
      "Making 'packages.html' ...\n",
      " done\n",
      "\n",
      "also installing the dependencies ‘htmlTable’, ‘matrixStats’\n",
      "\n",
      "\n",
      "Warning message in install.packages(\"expss\"):\n",
      "“installation of package ‘htmlTable’ had non-zero exit status”\n",
      "Warning message in install.packages(\"expss\"):\n",
      "“installation of package ‘expss’ had non-zero exit status”\n",
      "Updating HTML index of packages in '.Library'\n",
      "\n",
      "Making 'packages.html' ...\n",
      " done\n",
      "\n"
     ]
    },
    {
     "ename": "ERROR",
     "evalue": "Error in library(expss): there is no package called ‘expss’\n",
     "output_type": "error",
     "traceback": [
      "Error in library(expss): there is no package called ‘expss’\nTraceback:\n",
      "1. library(expss)"
     ]
    }
   ],
   "source": [
    "library(tidyverse)\n",
    "library(repr)\n",
    "library(tidymodels)\n",
    "install.packages(\"themis\")\n",
    "install.packages(\"expss\")\n",
    "library(expss)\n",
    "source('tests.R')\n",
    "source('cleanup.R')"
   ]
  },
  {
   "cell_type": "code",
   "execution_count": 4,
   "id": "e85ea3cf-00b2-4f57-ae05-88cce3f1db4f",
   "metadata": {
    "tags": []
   },
   "outputs": [
    {
     "name": "stderr",
     "output_type": "stream",
     "text": [
      "\u001b[1mRows: \u001b[22m\u001b[34m17897\u001b[39m \u001b[1mColumns: \u001b[22m\u001b[34m9\u001b[39m\n",
      "\u001b[36m──\u001b[39m \u001b[1mColumn specification\u001b[22m \u001b[36m────────────────────────────────────────────────────────\u001b[39m\n",
      "\u001b[1mDelimiter:\u001b[22m \",\"\n",
      "\u001b[32mdbl\u001b[39m (9): 140.5625, 55.68378214, -0.234571412, -0.699648398, 3.199832776, 19....\n",
      "\n",
      "\u001b[36mℹ\u001b[39m Use `spec()` to retrieve the full column specification for this data.\n",
      "\u001b[36mℹ\u001b[39m Specify the column types or set `show_col_types = FALSE` to quiet this message.\n"
     ]
    },
    {
     "data": {
      "text/html": [
       "<table class=\"dataframe\">\n",
       "<caption>A spec_tbl_df: 17897 × 9</caption>\n",
       "<thead>\n",
       "\t<tr><th scope=col>140.5625</th><th scope=col>55.68378214</th><th scope=col>-0.234571412</th><th scope=col>-0.699648398</th><th scope=col>3.199832776</th><th scope=col>19.11042633</th><th scope=col>7.975531794</th><th scope=col>74.24222492</th><th scope=col>0</th></tr>\n",
       "\t<tr><th scope=col>&lt;dbl&gt;</th><th scope=col>&lt;dbl&gt;</th><th scope=col>&lt;dbl&gt;</th><th scope=col>&lt;dbl&gt;</th><th scope=col>&lt;dbl&gt;</th><th scope=col>&lt;dbl&gt;</th><th scope=col>&lt;dbl&gt;</th><th scope=col>&lt;dbl&gt;</th><th scope=col>&lt;dbl&gt;</th></tr>\n",
       "</thead>\n",
       "<tbody>\n",
       "\t<tr><td>102.5078</td><td>58.88243</td><td> 0.46531815</td><td>-0.5150879</td><td>1.677258</td><td>14.86015</td><td>10.576487</td><td>127.39358</td><td>0</td></tr>\n",
       "\t<tr><td>103.0156</td><td>39.34165</td><td> 0.32332837</td><td> 1.0511644</td><td>3.121237</td><td>21.74467</td><td> 7.735822</td><td> 63.17191</td><td>0</td></tr>\n",
       "\t<tr><td>136.7500</td><td>57.17845</td><td>-0.06841464</td><td>-0.6362384</td><td>3.642977</td><td>20.95928</td><td> 6.896499</td><td> 53.59366</td><td>0</td></tr>\n",
       "\t<tr><td>⋮</td><td>⋮</td><td>⋮</td><td>⋮</td><td>⋮</td><td>⋮</td><td>⋮</td><td>⋮</td><td>⋮</td></tr>\n",
       "\t<tr><td>119.3359</td><td>59.93594</td><td>0.1593631</td><td>-0.74302540</td><td> 21.430602</td><td>58.87200</td><td> 2.499517</td><td>  4.595173</td><td>0</td></tr>\n",
       "\t<tr><td>114.5078</td><td>53.90240</td><td>0.2011614</td><td>-0.02478884</td><td>  1.946488</td><td>13.38173</td><td>10.007967</td><td>134.238910</td><td>0</td></tr>\n",
       "\t<tr><td> 57.0625</td><td>85.79734</td><td>1.4063910</td><td> 0.08951971</td><td>188.306020</td><td>64.71256</td><td>-1.597527</td><td>  1.429475</td><td>0</td></tr>\n",
       "</tbody>\n",
       "</table>\n"
      ],
      "text/latex": [
       "A spec\\_tbl\\_df: 17897 × 9\n",
       "\\begin{tabular}{lllllllll}\n",
       " 140.5625 & 55.68378214 & -0.234571412 & -0.699648398 & 3.199832776 & 19.11042633 & 7.975531794 & 74.24222492 & 0\\\\\n",
       " <dbl> & <dbl> & <dbl> & <dbl> & <dbl> & <dbl> & <dbl> & <dbl> & <dbl>\\\\\n",
       "\\hline\n",
       "\t 102.5078 & 58.88243 &  0.46531815 & -0.5150879 & 1.677258 & 14.86015 & 10.576487 & 127.39358 & 0\\\\\n",
       "\t 103.0156 & 39.34165 &  0.32332837 &  1.0511644 & 3.121237 & 21.74467 &  7.735822 &  63.17191 & 0\\\\\n",
       "\t 136.7500 & 57.17845 & -0.06841464 & -0.6362384 & 3.642977 & 20.95928 &  6.896499 &  53.59366 & 0\\\\\n",
       "\t ⋮ & ⋮ & ⋮ & ⋮ & ⋮ & ⋮ & ⋮ & ⋮ & ⋮\\\\\n",
       "\t 119.3359 & 59.93594 & 0.1593631 & -0.74302540 &  21.430602 & 58.87200 &  2.499517 &   4.595173 & 0\\\\\n",
       "\t 114.5078 & 53.90240 & 0.2011614 & -0.02478884 &   1.946488 & 13.38173 & 10.007967 & 134.238910 & 0\\\\\n",
       "\t  57.0625 & 85.79734 & 1.4063910 &  0.08951971 & 188.306020 & 64.71256 & -1.597527 &   1.429475 & 0\\\\\n",
       "\\end{tabular}\n"
      ],
      "text/markdown": [
       "\n",
       "A spec_tbl_df: 17897 × 9\n",
       "\n",
       "| 140.5625 &lt;dbl&gt; | 55.68378214 &lt;dbl&gt; | -0.234571412 &lt;dbl&gt; | -0.699648398 &lt;dbl&gt; | 3.199832776 &lt;dbl&gt; | 19.11042633 &lt;dbl&gt; | 7.975531794 &lt;dbl&gt; | 74.24222492 &lt;dbl&gt; | 0 &lt;dbl&gt; |\n",
       "|---|---|---|---|---|---|---|---|---|\n",
       "| 102.5078 | 58.88243 |  0.46531815 | -0.5150879 | 1.677258 | 14.86015 | 10.576487 | 127.39358 | 0 |\n",
       "| 103.0156 | 39.34165 |  0.32332837 |  1.0511644 | 3.121237 | 21.74467 |  7.735822 |  63.17191 | 0 |\n",
       "| 136.7500 | 57.17845 | -0.06841464 | -0.6362384 | 3.642977 | 20.95928 |  6.896499 |  53.59366 | 0 |\n",
       "| ⋮ | ⋮ | ⋮ | ⋮ | ⋮ | ⋮ | ⋮ | ⋮ | ⋮ |\n",
       "| 119.3359 | 59.93594 | 0.1593631 | -0.74302540 |  21.430602 | 58.87200 |  2.499517 |   4.595173 | 0 |\n",
       "| 114.5078 | 53.90240 | 0.2011614 | -0.02478884 |   1.946488 | 13.38173 | 10.007967 | 134.238910 | 0 |\n",
       "|  57.0625 | 85.79734 | 1.4063910 |  0.08951971 | 188.306020 | 64.71256 | -1.597527 |   1.429475 | 0 |\n",
       "\n"
      ],
      "text/plain": [
       "      140.5625 55.68378214 -0.234571412 -0.699648398 3.199832776 19.11042633\n",
       "1     102.5078 58.88243     0.46531815  -0.5150879   1.677258    14.86015   \n",
       "2     103.0156 39.34165     0.32332837   1.0511644   3.121237    21.74467   \n",
       "3     136.7500 57.17845    -0.06841464  -0.6362384   3.642977    20.95928   \n",
       "⋮     ⋮        ⋮           ⋮            ⋮            ⋮           ⋮          \n",
       "17895 119.3359 59.93594    0.1593631    -0.74302540   21.430602  58.87200   \n",
       "17896 114.5078 53.90240    0.2011614    -0.02478884    1.946488  13.38173   \n",
       "17897  57.0625 85.79734    1.4063910     0.08951971  188.306020  64.71256   \n",
       "      7.975531794 74.24222492 0\n",
       "1     10.576487   127.39358   0\n",
       "2      7.735822    63.17191   0\n",
       "3      6.896499    53.59366   0\n",
       "⋮     ⋮           ⋮           ⋮\n",
       "17895  2.499517     4.595173  0\n",
       "17896 10.007967   134.238910  0\n",
       "17897 -1.597527     1.429475  0"
      ]
     },
     "metadata": {},
     "output_type": "display_data"
    }
   ],
   "source": [
    "#Reading the data: Here, we read the dataset from the web into R, \n",
    "# and loaded the dataset to examine it.\n",
    "options(repr.matrix.max.rows = 6)\n",
    "url <- \"https://archive.ics.uci.edu/ml/machine-learning-databases/00372/HTRU2.zip\"\n",
    "download.file(url, \"HTRU2.zip\") \n",
    "unzip(\"HTRU2.zip\")\n",
    "pulsar_data_raw <- read_csv('HTRU_2.csv') \n",
    "pulsar_data_raw\n"
   ]
  },
  {
   "cell_type": "markdown",
   "id": "69ec366c-f0b9-4e3e-b0c2-f1a7d4e17178",
   "metadata": {},
   "source": [
    "## Tidying and preparing the Data:"
   ]
  },
  {
   "cell_type": "code",
   "execution_count": 6,
   "id": "b6469d8d-313b-4ef4-9b07-8e51a8ae87d4",
   "metadata": {
    "tags": []
   },
   "outputs": [
    {
     "name": "stderr",
     "output_type": "stream",
     "text": [
      "\u001b[1mRows: \u001b[22m\u001b[34m17898\u001b[39m \u001b[1mColumns: \u001b[22m\u001b[34m9\u001b[39m\n",
      "\u001b[36m──\u001b[39m \u001b[1mColumn specification\u001b[22m \u001b[36m────────────────────────────────────────────────────────\u001b[39m\n",
      "\u001b[1mDelimiter:\u001b[22m \",\"\n",
      "\u001b[32mdbl\u001b[39m (9): Mean_IP, Stdev_IP, Kurtosis_IP, Skewness_IP, Mean_DM, Stdev_DM, Kur...\n",
      "\n",
      "\u001b[36mℹ\u001b[39m Use `spec()` to retrieve the full column specification for this data.\n",
      "\u001b[36mℹ\u001b[39m Specify the column types or set `show_col_types = FALSE` to quiet this message.\n"
     ]
    },
    {
     "data": {
      "text/html": [
       "<table class=\"dataframe\">\n",
       "<caption>A tibble: 13423 × 5</caption>\n",
       "<thead>\n",
       "\t<tr><th scope=col>Mean_IP</th><th scope=col>Stdev_IP</th><th scope=col>Kurtosis_IP</th><th scope=col>Skewness_IP</th><th scope=col>Class</th></tr>\n",
       "\t<tr><th scope=col>&lt;dbl&gt;</th><th scope=col>&lt;dbl&gt;</th><th scope=col>&lt;dbl&gt;</th><th scope=col>&lt;dbl&gt;</th><th scope=col>&lt;fct&gt;</th></tr>\n",
       "</thead>\n",
       "<tbody>\n",
       "\t<tr><td>102.5078</td><td>58.88243</td><td> 0.46531815</td><td>-0.5150879</td><td>0</td></tr>\n",
       "\t<tr><td>103.0156</td><td>39.34165</td><td> 0.32332837</td><td> 1.0511644</td><td>0</td></tr>\n",
       "\t<tr><td>136.7500</td><td>57.17845</td><td>-0.06841464</td><td>-0.6362384</td><td>0</td></tr>\n",
       "\t<tr><td>⋮</td><td>⋮</td><td>⋮</td><td>⋮</td><td>⋮</td></tr>\n",
       "\t<tr><td>119.3359</td><td>59.93594</td><td>0.1593631</td><td>-0.74302540</td><td>0</td></tr>\n",
       "\t<tr><td>114.5078</td><td>53.90240</td><td>0.2011614</td><td>-0.02478884</td><td>0</td></tr>\n",
       "\t<tr><td> 57.0625</td><td>85.79734</td><td>1.4063910</td><td> 0.08951971</td><td>0</td></tr>\n",
       "</tbody>\n",
       "</table>\n"
      ],
      "text/latex": [
       "A tibble: 13423 × 5\n",
       "\\begin{tabular}{lllll}\n",
       " Mean\\_IP & Stdev\\_IP & Kurtosis\\_IP & Skewness\\_IP & Class\\\\\n",
       " <dbl> & <dbl> & <dbl> & <dbl> & <fct>\\\\\n",
       "\\hline\n",
       "\t 102.5078 & 58.88243 &  0.46531815 & -0.5150879 & 0\\\\\n",
       "\t 103.0156 & 39.34165 &  0.32332837 &  1.0511644 & 0\\\\\n",
       "\t 136.7500 & 57.17845 & -0.06841464 & -0.6362384 & 0\\\\\n",
       "\t ⋮ & ⋮ & ⋮ & ⋮ & ⋮\\\\\n",
       "\t 119.3359 & 59.93594 & 0.1593631 & -0.74302540 & 0\\\\\n",
       "\t 114.5078 & 53.90240 & 0.2011614 & -0.02478884 & 0\\\\\n",
       "\t  57.0625 & 85.79734 & 1.4063910 &  0.08951971 & 0\\\\\n",
       "\\end{tabular}\n"
      ],
      "text/markdown": [
       "\n",
       "A tibble: 13423 × 5\n",
       "\n",
       "| Mean_IP &lt;dbl&gt; | Stdev_IP &lt;dbl&gt; | Kurtosis_IP &lt;dbl&gt; | Skewness_IP &lt;dbl&gt; | Class &lt;fct&gt; |\n",
       "|---|---|---|---|---|\n",
       "| 102.5078 | 58.88243 |  0.46531815 | -0.5150879 | 0 |\n",
       "| 103.0156 | 39.34165 |  0.32332837 |  1.0511644 | 0 |\n",
       "| 136.7500 | 57.17845 | -0.06841464 | -0.6362384 | 0 |\n",
       "| ⋮ | ⋮ | ⋮ | ⋮ | ⋮ |\n",
       "| 119.3359 | 59.93594 | 0.1593631 | -0.74302540 | 0 |\n",
       "| 114.5078 | 53.90240 | 0.2011614 | -0.02478884 | 0 |\n",
       "|  57.0625 | 85.79734 | 1.4063910 |  0.08951971 | 0 |\n",
       "\n"
      ],
      "text/plain": [
       "      Mean_IP  Stdev_IP Kurtosis_IP Skewness_IP Class\n",
       "1     102.5078 58.88243  0.46531815 -0.5150879  0    \n",
       "2     103.0156 39.34165  0.32332837  1.0511644  0    \n",
       "3     136.7500 57.17845 -0.06841464 -0.6362384  0    \n",
       "⋮     ⋮        ⋮        ⋮           ⋮           ⋮    \n",
       "13421 119.3359 59.93594 0.1593631   -0.74302540 0    \n",
       "13422 114.5078 53.90240 0.2011614   -0.02478884 0    \n",
       "13423  57.0625 85.79734 1.4063910    0.08951971 0    "
      ]
     },
     "metadata": {},
     "output_type": "display_data"
    },
    {
     "data": {
      "text/html": [
       "<table class=\"dataframe\">\n",
       "<caption>A tibble: 13423 × 5</caption>\n",
       "<thead>\n",
       "\t<tr><th scope=col>Mean_DM</th><th scope=col>Stdev_DM</th><th scope=col>Kurtosis_DM</th><th scope=col>Skewness_DM</th><th scope=col>Class</th></tr>\n",
       "\t<tr><th scope=col>&lt;dbl&gt;</th><th scope=col>&lt;dbl&gt;</th><th scope=col>&lt;dbl&gt;</th><th scope=col>&lt;dbl&gt;</th><th scope=col>&lt;fct&gt;</th></tr>\n",
       "</thead>\n",
       "<tbody>\n",
       "\t<tr><td>3.199833</td><td>19.11043</td><td> 7.975532</td><td> 74.24222</td><td>0</td></tr>\n",
       "\t<tr><td>1.677258</td><td>14.86015</td><td>10.576487</td><td>127.39358</td><td>0</td></tr>\n",
       "\t<tr><td>3.642977</td><td>20.95928</td><td> 6.896499</td><td> 53.59366</td><td>0</td></tr>\n",
       "\t<tr><td>⋮</td><td>⋮</td><td>⋮</td><td>⋮</td><td>⋮</td></tr>\n",
       "\t<tr><td> 1.296823</td><td>12.16606</td><td>15.450260</td><td>285.931022</td><td>0</td></tr>\n",
       "\t<tr><td>21.430602</td><td>58.87200</td><td> 2.499517</td><td>  4.595173</td><td>0</td></tr>\n",
       "\t<tr><td> 1.946488</td><td>13.38173</td><td>10.007967</td><td>134.238910</td><td>0</td></tr>\n",
       "</tbody>\n",
       "</table>\n"
      ],
      "text/latex": [
       "A tibble: 13423 × 5\n",
       "\\begin{tabular}{lllll}\n",
       " Mean\\_DM & Stdev\\_DM & Kurtosis\\_DM & Skewness\\_DM & Class\\\\\n",
       " <dbl> & <dbl> & <dbl> & <dbl> & <fct>\\\\\n",
       "\\hline\n",
       "\t 3.199833 & 19.11043 &  7.975532 &  74.24222 & 0\\\\\n",
       "\t 1.677258 & 14.86015 & 10.576487 & 127.39358 & 0\\\\\n",
       "\t 3.642977 & 20.95928 &  6.896499 &  53.59366 & 0\\\\\n",
       "\t ⋮ & ⋮ & ⋮ & ⋮ & ⋮\\\\\n",
       "\t  1.296823 & 12.16606 & 15.450260 & 285.931022 & 0\\\\\n",
       "\t 21.430602 & 58.87200 &  2.499517 &   4.595173 & 0\\\\\n",
       "\t  1.946488 & 13.38173 & 10.007967 & 134.238910 & 0\\\\\n",
       "\\end{tabular}\n"
      ],
      "text/markdown": [
       "\n",
       "A tibble: 13423 × 5\n",
       "\n",
       "| Mean_DM &lt;dbl&gt; | Stdev_DM &lt;dbl&gt; | Kurtosis_DM &lt;dbl&gt; | Skewness_DM &lt;dbl&gt; | Class &lt;fct&gt; |\n",
       "|---|---|---|---|---|\n",
       "| 3.199833 | 19.11043 |  7.975532 |  74.24222 | 0 |\n",
       "| 1.677258 | 14.86015 | 10.576487 | 127.39358 | 0 |\n",
       "| 3.642977 | 20.95928 |  6.896499 |  53.59366 | 0 |\n",
       "| ⋮ | ⋮ | ⋮ | ⋮ | ⋮ |\n",
       "|  1.296823 | 12.16606 | 15.450260 | 285.931022 | 0 |\n",
       "| 21.430602 | 58.87200 |  2.499517 |   4.595173 | 0 |\n",
       "|  1.946488 | 13.38173 | 10.007967 | 134.238910 | 0 |\n",
       "\n"
      ],
      "text/plain": [
       "      Mean_DM   Stdev_DM Kurtosis_DM Skewness_DM Class\n",
       "1     3.199833  19.11043  7.975532    74.24222   0    \n",
       "2     1.677258  14.86015 10.576487   127.39358   0    \n",
       "3     3.642977  20.95928  6.896499    53.59366   0    \n",
       "⋮     ⋮         ⋮        ⋮           ⋮           ⋮    \n",
       "13421  1.296823 12.16606 15.450260   285.931022  0    \n",
       "13422 21.430602 58.87200  2.499517     4.595173  0    \n",
       "13423  1.946488 13.38173 10.007967   134.238910  0    "
      ]
     },
     "metadata": {},
     "output_type": "display_data"
    }
   ],
   "source": [
    "# Here, we tidied and wrangled the data set using these steps: \n",
    "# a) Giving names to columns \n",
    "# b) Changing the Class column to a factor \n",
    "# c) Splitting the data into the IP and DM-SNR profiles\n",
    "# d) Spitting each profile into a training and test set\n",
    "\n",
    "options(repr.matrix.max.rows = 6)\n",
    "col_names <- c('Mean_IP', 'Stdev_IP', 'Kurtosis_IP', 'Skewness_IP', \n",
    "               'Mean_DM', \"Stdev_DM\", 'Kurtosis_DM', \"Skewness_DM\", \"Class\")\n",
    "pulsar_data <- read_csv('HTRU_2.csv', col_names)\n",
    "\n",
    "pulsar_data_wrangled <- mutate(pulsar_data, Class = as.factor(Class))\n",
    "\n",
    "pulsar_data_IP <- select(pulsar_data_wrangled, Mean_IP, Stdev_IP, Kurtosis_IP, Skewness_IP, Class)\n",
    "\n",
    "IP_split <- initial_split(pulsar_data_IP, prop = 0.75, strata = Class)\n",
    "IP_train <- training(IP_split)\n",
    "IP_test <- testing(IP_split) \n",
    "\n",
    "IP_train\n",
    "\n",
    "pulsar_data_DM <- select(pulsar_data_wrangled, Mean_DM, Stdev_DM, Kurtosis_DM, Skewness_DM, Class)\n",
    "\n",
    "DM_split <- initial_split(pulsar_data_DM, prop = 0.75, strata = Class)\n",
    "DM_train <- training(DM_split)\n",
    "DM_test <- testing(DM_split) \n",
    "\n",
    "DM_train\n"
   ]
  },
  {
   "cell_type": "markdown",
   "id": "2b4d3d70-b0f0-4905-993d-14c7ae8a0649",
   "metadata": {},
   "source": [
    "## Summary Table of Each Dataset:"
   ]
  },
  {
   "cell_type": "code",
   "execution_count": null,
   "id": "404c0e7c-dc29-4c4e-b0a7-672764927f5e",
   "metadata": {},
   "outputs": [],
   "source": [
    "#We created a table of the means, standard deviations, kurtosis, \n",
    "# and skewness of the integrated and the DM-SNR puslar profiles.\n",
    "\n",
    "pulsar_data_summary <- group_by(pulsar_data, Class) |>\n",
    "    summarize(avg_mean_ip = mean(Mean_IP), mean_stdev_ip = mean(Stdev_IP), \n",
    "              avg_mean_dm = mean(Mean_DM), mean_stdev_dm = mean(Stdev_DM), \n",
    "              count = n(),\n",
    "             max_ip = max(Mean_IP), min_ip = min(Mean_IP)) |>\n",
    "    mutate (as.factor(Class)) \n",
    "\n",
    "IP_train_summary <- group_by(IP_train, Class) |>\n",
    "    summarize(avg_mean_ip = mean(Mean_IP), avg_stdev_ip = mean(Stdev_IP), \n",
    "              avg_kurtosis_ip = mean(Kurtosis_IP), avg_skewness_ip = mean(Skewness_IP),\n",
    "              count = n(), percentage = n() / IP_num_obs * 100) |>\n",
    "    table_name(\"Integrated profile training data summary\")\n",
    "IP_train_summary\n",
    "\n",
    "DM_train_summary <- group_by(DM_train, Class) |>\n",
    "    summarize(avg_mean_dm = mean(Mean_DM), avg_stdev_dm = mean(Stdev_DM), \n",
    "              avg_kurtosis_dm = mean(Kurtosis_DM), avg_skewness_dm = mean(Skewness_DM),\n",
    "              count = n(), percentage = n() / DM_num_obs * 100)\n",
    "DM_train_summary"
   ]
  },
  {
   "cell_type": "markdown",
   "id": "6adb3683-4ecd-4096-baae-9328073a4456",
   "metadata": {},
   "source": [
    "## Visualizing the data"
   ]
  },
  {
   "cell_type": "code",
   "execution_count": null,
   "id": "a3730c91-c6aa-4406-a2f7-fb4521639708",
   "metadata": {},
   "outputs": [],
   "source": [
    "#We visualized the distributions of means, SD, \n",
    "# kurtoses and skewness for the integrated and DM-SNR profiles.\n",
    "pulsar_hist_mean_IP <- ggplot(IP_train, aes(x = Mean_IP, fill = Class)) +\n",
    "    geom_histogram(alpha = 0.7, position = \"identity\", bins = 30) +\n",
    "    labs(x=\"Mean of integrated profile\", \n",
    "         y= \"Number of stars\", \n",
    "         fill = \"Pulsar or \\nnot Pulsar\", \n",
    "         title = 'Distribution of means via integrated profile')\n",
    "pulsar_hist_mean_IP\n",
    "\n",
    "pulsar_hist_SD_IP <- ggplot(IP_train, aes(x = Stdev_IP, fill = Class)) +\n",
    "    geom_histogram(alpha = 0.7, position = \"identity\", bins = 30) +\n",
    "    labs(x=\"Standard deviation of integrated profile\", \n",
    "         y= \"Number of stars\", \n",
    "         fill = \"Pulsar or \\nnot Pulsar\", \n",
    "         title = 'Distribution of standard deviations via integrated profile')\n",
    "pulsar_hist_SD_IP\n",
    "\n",
    "pulsar_hist_Kurtosis_IP <- ggplot(IP_train, aes(x = Kurtosis_IP, fill = Class)) +\n",
    "    geom_histogram(alpha = 0.7, position = \"identity\", bins = 30) +\n",
    "    labs(x=\"Kurtosis of integrated profile\", \n",
    "         y= \"Number of stars\", \n",
    "         fill = \"Pulsar or \\nnot Pulsar\", \n",
    "         title = 'Distribution of kurtoses via integrated profile')\n",
    "pulsar_hist_Kurtosis_IP\n",
    "\n",
    "pulsar_hist_Skew_IP <- ggplot(IP_train, aes(x = Skewness_IP, fill = Class)) +\n",
    "    geom_histogram(alpha = 0.7, position = \"identity\", bins = 30) +\n",
    "    labs(x=\"Skewness of integrated profile\", \n",
    "         y= \"Number of stars\", \n",
    "         fill = \"Pulsar or \\nnot Pulsar\", \n",
    "         title = 'Distribution of skew via integrated profile')\n",
    "pulsar_hist_Skew_IP\n",
    "\n",
    "\n",
    "pulsar_hist_mean_DM <- ggplot(DM_train, aes(x = Mean_DM, fill = Class)) +\n",
    "    geom_histogram(alpha = 0.7, position = \"identity\", bins = 30) +\n",
    "    labs(x=\"Mean of DM-SNR\", \n",
    "         y= \"Number of stars\", \n",
    "         fill = \"Pulsar or \\nnot Pulsar\", \n",
    "         title = 'Distribution of means via DM-SNR')\n",
    "pulsar_hist_mean_DM\n",
    "\n",
    "pulsar_hist_SD_DM <- ggplot(DM_train, aes(x = Stdev_DM, fill = Class)) +\n",
    "    geom_histogram(alpha = 0.7, position = \"identity\", bins = 30) +\n",
    "    labs(x=\"Standard deviation of DM-SNR\", \n",
    "         y= \"Number of stars\", \n",
    "         fill = \"Pulsar or \\nnot Pulsar\", \n",
    "         title = 'Distribution of standard deviations via DM-SNR')\n",
    "pulsar_hist_SD_DM\n",
    "\n",
    "pulsar_hist_Kurtosis_DM <- ggplot(DM_train, aes(x = Kurtosis_DM, fill = Class)) +\n",
    "    geom_histogram(alpha = 0.7, position = \"identity\", bins = 30) +\n",
    "    labs(x=\"Kutosis of DM-SNR\", \n",
    "         y= \"Number of stars\", \n",
    "         fill = \"Pulsar or \\nnot Pulsar\", \n",
    "         title = 'Distribution of kurtoses via DM-SNR')\n",
    "pulsar_hist_Kurtosis_DM\n",
    "\n",
    "pulsar_hist_Skew_DM <- ggplot(DM_train, aes(x = Skewness_DM, fill = Class)) +\n",
    "    geom_histogram(alpha = 0.7, position = \"identity\", bins = 30) +\n",
    "    labs(x=\"Skewness of DM-SNR\", \n",
    "         y= \"Number of stars\", \n",
    "         fill = \"Pulsar or \\nnot Pulsar\", \n",
    "         title = 'Distribution of skew via DM-SNR')\n",
    "pulsar_hist_Skew_DM"
   ]
  },
  {
   "cell_type": "markdown",
   "id": "e75c665a-f2d2-46a0-a7e7-8703ac129331",
   "metadata": {},
   "source": [
    "### Normal distributions of average means of each profile\n",
    "\n",
    "We wanted to see if there is a greater difference between positive and negative pulsar stars in either profile so that we could hypothesize which one would more accurately predict class of a pulsar star. However, it is very difficult to see a difference with the naked eye."
   ]
  },
  {
   "cell_type": "code",
   "execution_count": null,
   "id": "8d5e20e2-a9a5-42dd-b1c5-9a12a90bb689",
   "metadata": {},
   "outputs": [],
   "source": [
    "#We visualized the curve of the average mean of the integrated pulse profile, \n",
    "# and the DM-SNR profile for positive and negative pulsar stars.\n",
    "IP_distribution <- ggplot() + \n",
    "  lapply(split(pulsar_data_IP_summary, seq_len(nrow(pulsar_data_IP_summary))), \n",
    "         \\(x) stat_function(fun = dnorm, \n",
    "                            args = list(mean = x$avg_mean_ip, sd = x$mean_stdev_ip), \n",
    "                            aes(color = factor(x$Class)))) +\n",
    "  xlim(-100,300)+\n",
    "    labs(x = 'Mean via IP', y = 'Density', color = 'Class', \n",
    "         title = 'Distribution of means using IP')\n",
    "IP_distribution\n",
    "\n",
    "DM_distribution <- ggplot() + \n",
    "  lapply(split(pulsar_data_DM_summary, seq_len(nrow(pulsar_data_DM_summary))), \n",
    "         \\(x) stat_function(fun = dnorm, \n",
    "                            args = list(mean = x$avg_mean_dm, sd = x$mean_stdev_dm), \n",
    "                            aes(color = factor(x$Class)))) +\n",
    "  xlim(-100,300)+\n",
    "    labs(x = 'Mean via DM-SNR', y = 'Density', color = 'Class', \n",
    "         title = 'Distribution of means using DM-SNR')\n",
    "DM_distribution"
   ]
  },
  {
   "cell_type": "markdown",
   "id": "c2958582-c811-4820-932f-2626809efdb4",
   "metadata": {},
   "source": [
    "## Methods\n",
    "\n",
    "1. Creating 2 data groups:\n",
    "   - Group 1: Integrated profile columns Mean_IP, Stdev_IP, Kurtosis_IP and Skewness_IP will be used to predict the Class\n",
    "   - Group 2: DM-SNR profile columns Mean_DM, Stdev_DM, Kurtosis_DM and Skewness_DM will be used to predict the Class\n",
    "2. Oversampling: When running knn we will use the oversampling technique since positive cases are very few compared to negative cases ((1,639 positive examples (9.16%) and 16,259 negative examples (90.85%)).\n",
    "3. We will also standardize our variables.\n",
    "4. Training the classification KNN models\n",
    "5. Tuning the models\n",
    "6. Testing the models \n",
    "7. Evaluating the models via confusion matrices and accuracy estimates\n",
    "8. Picking the best classification model to predict pulsar stars based on background information.\n",
    "For example, if it is more costly to investigate a false positive, we would want to choose a model with high accuracy and a low rate of false positives.\n",
    "\n"
   ]
  },
  {
   "cell_type": "markdown",
   "id": "1faffb76-8f7d-4e55-83e7-ae2e1fc464a5",
   "metadata": {},
   "source": [
    "### Visualizing the results\n",
    "\n",
    "We will visualize the results with a bar graph comparing the accuracies of each prediction model we created. "
   ]
  },
  {
   "cell_type": "markdown",
   "id": "c9173aef-3364-4ca9-be80-eec03c32e826",
   "metadata": {},
   "source": [
    "## Conclusion: \n",
    "\n",
    "To make a hypothesis on which profile is better at predicting pulsar star class, we computed if the difference in means between pulsar and non-pulsar stars is significant for both profiles. Although both profiles are effective at telling a pulsar and non-pulsar star apart (p < 0.05), the integrated profile has a larger difference between the mean of pulsar and non-pulsar (larger t).\n",
    "\n",
    "### Hypothesis: \n",
    "We hypothesize that using the integrated profile versus the DM-SNR profile will provide more accurate predictions of pulsar star class.\n"
   ]
  },
  {
   "cell_type": "code",
   "execution_count": null,
   "id": "852394fc-24ba-485c-918d-ae18682b9a69",
   "metadata": {},
   "outputs": [],
   "source": [
    "set.seed(0)\n",
    "\n",
    "integrated_pulsar <- rnorm(1639, mean = 56.69061, sd = 38.71060)\n",
    "integrated_non_pulsar <- rnorm(16259, mean= 116.56273, sd = 47.33974)\n",
    "\n",
    "integrated_profile_t_test_result <- t.test(integrated_non_pulsar, integrated_pulsar, alternative = \"two.sided\", var.equal = TRUE)\n",
    "integrated_profile_t_test_result\n",
    "\n",
    "DM_pulsar <- rnorm(1639, mean = 8.863258, sd = 23.28798)\n",
    "DM_non_pulsar <- rnorm(16259, mean= 49.825995, sd = 56.46896)\n",
    "\n",
    "DM_profile_t_test_result <- t.test(DM_non_pulsar, DM_pulsar, alternative = \"two.sided\", var.equal = TRUE)\n",
    "DM_profile_t_test_result"
   ]
  },
  {
   "cell_type": "markdown",
   "id": "872a56a4-8350-4237-abdf-47d83ede5f16",
   "metadata": {},
   "source": [
    "Investigating which profile best predicts the class of a pulsar star can help us to better understand and identify these cosmic phenomena. Thus, this leads us to future questions such as: if a pulsar star has been identified, what is the correlation of its findings to other cosmic phenomena such as dark matter and gravity waves? "
   ]
  },
  {
   "cell_type": "markdown",
   "id": "d283dbfe-95ef-4f88-828f-19b979e250f4",
   "metadata": {},
   "source": [
    "# knn classification"
   ]
  },
  {
   "cell_type": "code",
   "execution_count": null,
   "id": "2a39c6fd-c146-4ecb-a6f4-00e9d7592f18",
   "metadata": {
    "tags": []
   },
   "outputs": [],
   "source": [
    "#upsampling pulsar stars\n",
    "library (themis)\n",
    "\n",
    "ups_recipe <- recipe(Class ~ ., data = pulsar_data_IP) |>\n",
    "  step_upsample(Class, over_ratio = 1, skip = FALSE) |>\n",
    "  prep()\n",
    "\n",
    "ups_recipe"
   ]
  },
  {
   "cell_type": "code",
   "execution_count": null,
   "id": "f9a59354-9b81-46c4-b1bb-0d9d09a4b04b",
   "metadata": {},
   "outputs": [],
   "source": [
    "set.seed(17)\n",
    "\n",
    "IP_split <- initial_split(pulsar_data_IP, prop = 0.75, strata = Class)\n",
    "IP_train <- training(IP_split)\n",
    "IP_test <- testing(IP_split) \n",
    "\n",
    "IP_proportions <- IP_train |>\n",
    "                      group_by(Class) |>\n",
    "                      summarize(n = n()) |>\n",
    "                      mutate(percent = 100*n/nrow(IP_train))\n",
    "\n",
    "IP_proportions\n",
    "\n",
    "IP_recipe <- recipe(Class ~ ., data = IP_train) |>\n",
    "    step_scale(all_predictors()) |>\n",
    "    step_center(all_predictors()) \n",
    "\n",
    "knn_spec <- nearest_neighbor(weight_func = \"rectangular\", neighbors = tune()) |>\n",
    "  set_engine(\"kknn\") |>\n",
    "  set_mode(\"classification\")\n",
    "\n",
    "knn_fit <- workflow() |>\n",
    "  add_recipe(IP_recipe) |>\n",
    "  add_model(knn_spec) |>\n",
    "  fit(data = IP_train)\n",
    "\n",
    "IP_predictions <- predict(knn_fit, IP_test) |>\n",
    "  bind_cols(IP_test) |>\n",
    "  conf_mat(truth = Class, estimate = .pred_class)\n",
    "IP_predictions\n",
    "\n"
   ]
  },
  {
   "cell_type": "code",
   "execution_count": null,
   "id": "5e6f170b-9ba3-4cd2-aeb6-14b5808f25f4",
   "metadata": {},
   "outputs": [],
   "source": [
    "#knn with cross-validation to pick K\n",
    "IP_split <- initial_split(pulsar_data_IP, prop = 0.75, strata = Class)\n",
    "IP_train <- training(IP_split)\n",
    "IP_test <- testing(IP_split) \n",
    "\n",
    "IP_recipe <- recipe(Class ~ ., data = IP_train) |>\n",
    "    step_scale(all_predictors()) |>\n",
    "    step_center(all_predictors()) \n",
    "\n",
    "IP_vfold <- vfold_cv(IP_train, v = 5, strata = Class)\n",
    "\n",
    "IP_spec <- nearest_neighbor(weight_func = \"rectangular\", neighbors = tune()) |>\n",
    "  set_engine(\"kknn\") |>\n",
    "  set_mode(\"classification\")\n",
    "\n",
    "knn_fit <- workflow() |>\n",
    "  add_recipe(IP_recipe) |>\n",
    "  add_model(IP_spec) |>\n",
    "  fit_resamples(resamples = IP_vfold) |>\n",
    "  collect_metrics()\n",
    "\n",
    "validation_predicted <- predict(knn_fit, cancer_validation) |>\n",
    "  bind_cols(cancer_validation)\n",
    "\n",
    "k_vals <- tibble(neighbors = seq(from = 1, to = 100, by = 5))\n",
    "\n",
    "IP_results <- workflow() |>\n",
    "  add_recipe(IP_recipe) |>\n",
    "  add_model(IP_spec) |>\n",
    "  tune_grid(resamples = IP_vfold, grid = k_vals) |>\n",
    "  collect_metrics() \n",
    "\n",
    "accuracies <- IP_results |>\n",
    "  filter(.metric == \"accuracy\")\n",
    "accuracies"
   ]
  },
  {
   "cell_type": "code",
   "execution_count": null,
   "id": "dc47a035-f40a-4420-b60d-600fa1a38a05",
   "metadata": {},
   "outputs": [],
   "source": []
  }
 ],
 "metadata": {
  "kernelspec": {
   "display_name": "R",
   "language": "R",
   "name": "ir"
  },
  "language_info": {
   "codemirror_mode": "r",
   "file_extension": ".r",
   "mimetype": "text/x-r-source",
   "name": "R",
   "pygments_lexer": "r",
   "version": "4.1.3"
  }
 },
 "nbformat": 4,
 "nbformat_minor": 5
}
